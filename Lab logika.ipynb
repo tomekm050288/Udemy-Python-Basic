{
 "cells": [
  {
   "cell_type": "code",
   "execution_count": 30,
   "metadata": {},
   "outputs": [],
   "source": [
    "isAutomaticMode = False\n",
    "is80PercentLight = True\n",
    "isDirectLight = False\n",
    "isRainy = True"
   ]
  },
  {
   "cell_type": "code",
   "execution_count": 31,
   "metadata": {},
   "outputs": [],
   "source": [
    "turnLightsOn = isAutomaticMode and (not is80PercentLight or isDirectLight or isRainy)"
   ]
  },
  {
   "cell_type": "code",
   "execution_count": 32,
   "metadata": {},
   "outputs": [
    {
     "name": "stdout",
     "output_type": "stream",
     "text": [
      "Automatic mode:    False\n",
      "Is the light good: True\n",
      "Is sun low:        False\n",
      "Is it rainy:       True\n",
      "TURN LIGHTS ON:    False\n"
     ]
    }
   ],
   "source": [
    "print(\"Automatic mode:   \",isAutomaticMode)\n",
    "print(\"Is the light good:\",is80PercentLight)\n",
    "print(\"Is sun low:       \",isDirectLight)\n",
    "print(\"Is it rainy:      \",isRainy)\n",
    "print(\"TURN LIGHTS ON:   \",turnLightsOn)"
   ]
  },
  {
   "cell_type": "code",
   "execution_count": null,
   "metadata": {},
   "outputs": [],
   "source": []
  }
 ],
 "metadata": {
  "kernelspec": {
   "display_name": "Python 3",
   "language": "python",
   "name": "python3"
  },
  "language_info": {
   "codemirror_mode": {
    "name": "ipython",
    "version": 3
   },
   "file_extension": ".py",
   "mimetype": "text/x-python",
   "name": "python",
   "nbconvert_exporter": "python",
   "pygments_lexer": "ipython3",
   "version": "3.7.2"
  }
 },
 "nbformat": 4,
 "nbformat_minor": 2
}
