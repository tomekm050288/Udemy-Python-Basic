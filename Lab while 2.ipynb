{
 "cells": [
  {
   "cell_type": "code",
   "execution_count": 7,
   "metadata": {},
   "outputs": [],
   "source": [
    "number = 1\n",
    "previousNumber = 0"
   ]
  },
  {
   "cell_type": "code",
   "execution_count": 8,
   "metadata": {},
   "outputs": [
    {
     "name": "stdout",
     "output_type": "stream",
     "text": [
      "1 0 1\n",
      "2 1 3\n",
      "3 2 5\n",
      "4 3 7\n",
      "5 4 9\n",
      "6 5 11\n",
      "7 6 13\n",
      "8 7 15\n",
      "9 8 17\n",
      "10 9 19\n",
      "11 10 21\n",
      "12 11 23\n",
      "13 12 25\n",
      "14 13 27\n",
      "15 14 29\n",
      "16 15 31\n",
      "17 16 33\n",
      "18 17 35\n",
      "19 18 37\n",
      "20 19 39\n",
      "21 20 41\n",
      "22 21 43\n",
      "23 22 45\n",
      "24 23 47\n",
      "25 24 49\n",
      "26 25 51\n",
      "27 26 53\n",
      "28 27 55\n",
      "29 28 57\n",
      "30 29 59\n",
      "31 30 61\n",
      "32 31 63\n",
      "33 32 65\n",
      "34 33 67\n",
      "35 34 69\n",
      "36 35 71\n",
      "37 36 73\n",
      "38 37 75\n",
      "39 38 77\n",
      "40 39 79\n",
      "41 40 81\n",
      "42 41 83\n",
      "43 42 85\n",
      "44 43 87\n",
      "45 44 89\n",
      "46 45 91\n",
      "47 46 93\n",
      "48 47 95\n",
      "49 48 97\n",
      "50 49 99\n"
     ]
    }
   ],
   "source": [
    "while number <= 50:\n",
    "    print(number, previousNumber, number + previousNumber)\n",
    "    previousNumber = number\n",
    "    number+=1"
   ]
  },
  {
   "cell_type": "code",
   "execution_count": 11,
   "metadata": {},
   "outputs": [
    {
     "name": "stdout",
     "output_type": "stream",
     "text": [
      "Guess my number!\n",
      "5\n",
      "Sorry- my number is greater than your guess, Try again!\n",
      "8\n",
      "Sorry- my number is greater than your guess, Try again!\n",
      "10\n",
      "Sorry- my number is greater than your guess, Try again!\n",
      "16\n",
      "Congrats!\n"
     ]
    }
   ],
   "source": [
    "import random\n",
    "my_number = random.randint(0,20)\n",
    "guess = -1\n",
    "print(\"Guess my number!\")\n",
    "\n",
    "while guess != my_number:\n",
    "    guess = int(input())\n",
    "    if guess == my_number:\n",
    "        print('Congrats!')\n",
    "    elif guess > my_number:\n",
    "        print(\"Sorry- my number is smaller than your guess, Try again!\")\n",
    "    else:\n",
    "        print(\"Sorry- my number is greater than your guess, Try again!\")"
   ]
  },
  {
   "cell_type": "code",
   "execution_count": 12,
   "metadata": {},
   "outputs": [
    {
     "name": "stdout",
     "output_type": "stream",
     "text": [
      "Guess my number!\n",
      "9\n",
      "Sorry- my number is greater than your guess, Try again!\n",
      "12\n",
      "Sorry- my number is greater than your guess, Try again!\n",
      "19\n",
      "Congrats!\n"
     ]
    }
   ],
   "source": [
    "import random\n",
    "my_number = random.randint(0,20)\n",
    "guess = -1\n",
    "print(\"Guess my number!\")\n",
    "\n",
    "while guess != my_number:\n",
    "    guess = int(input())\n",
    "    if guess == my_number:\n",
    "        print('Congrats!')\n",
    "    elif guess > my_number:\n",
    "        print(\"Sorry- my number is smaller than your guess, Try again!\")\n",
    "    else:\n",
    "        print(\"Sorry- my number is greater than your guess, Try again!\")"
   ]
  },
  {
   "cell_type": "code",
   "execution_count": 13,
   "metadata": {},
   "outputs": [
    {
     "name": "stdout",
     "output_type": "stream",
     "text": [
      "Guess my number!\n",
      "4\n",
      "Sorry- my number is greater than your guess, Try again! Trials: 1\n",
      "5\n",
      "Sorry- my number is greater than your guess, Try again! Trials: 2\n",
      "10\n",
      "Sorry- my number is smaller than your guess, Try again! Trials: 3\n",
      "9\n",
      "Sorry- my number is smaller than your guess, Try again! Trials: 4\n",
      "\n"
     ]
    },
    {
     "ename": "ValueError",
     "evalue": "invalid literal for int() with base 10: ''",
     "output_type": "error",
     "traceback": [
      "\u001b[0;31m---------------------------------------------------------------------------\u001b[0m",
      "\u001b[0;31mValueError\u001b[0m                                Traceback (most recent call last)",
      "\u001b[0;32m<ipython-input-13-25d60908c0bb>\u001b[0m in \u001b[0;36m<module>\u001b[0;34m\u001b[0m\n\u001b[1;32m      6\u001b[0m \u001b[0;34m\u001b[0m\u001b[0m\n\u001b[1;32m      7\u001b[0m \u001b[0;32mwhile\u001b[0m \u001b[0mguess\u001b[0m \u001b[0;34m!=\u001b[0m \u001b[0mmy_number\u001b[0m\u001b[0;34m:\u001b[0m\u001b[0;34m\u001b[0m\u001b[0;34m\u001b[0m\u001b[0m\n\u001b[0;32m----> 8\u001b[0;31m     \u001b[0mguess\u001b[0m \u001b[0;34m=\u001b[0m \u001b[0mint\u001b[0m\u001b[0;34m(\u001b[0m\u001b[0minput\u001b[0m\u001b[0;34m(\u001b[0m\u001b[0;34m)\u001b[0m\u001b[0;34m)\u001b[0m\u001b[0;34m\u001b[0m\u001b[0;34m\u001b[0m\u001b[0m\n\u001b[0m\u001b[1;32m      9\u001b[0m     \u001b[0mtrials\u001b[0m \u001b[0;34m+=\u001b[0m \u001b[0;36m1\u001b[0m\u001b[0;34m\u001b[0m\u001b[0;34m\u001b[0m\u001b[0m\n\u001b[1;32m     10\u001b[0m     \u001b[0;32mif\u001b[0m \u001b[0mguess\u001b[0m \u001b[0;34m==\u001b[0m \u001b[0mmy_number\u001b[0m\u001b[0;34m:\u001b[0m\u001b[0;34m\u001b[0m\u001b[0;34m\u001b[0m\u001b[0m\n",
      "\u001b[0;31mValueError\u001b[0m: invalid literal for int() with base 10: ''"
     ]
    }
   ],
   "source": [
    "import random\n",
    "my_number = random.randint(0,20)\n",
    "guess = -1\n",
    "print(\"Guess my number!\")\n",
    "trials = 0\n",
    "\n",
    "while guess != my_number:\n",
    "    guess = int(input())\n",
    "    trials += 1\n",
    "    if guess == my_number:\n",
    "        print('Congrats!', \"Trials:\",trials)\n",
    "    elif guess > my_number:\n",
    "        print(\"Sorry- my number is smaller than your guess, Try again!\",\"Trials:\",trials)\n",
    "    else:\n",
    "        print(\"Sorry- my number is greater than your guess, Try again!\",\"Trials:\",trials)"
   ]
  },
  {
   "cell_type": "code",
   "execution_count": 14,
   "metadata": {},
   "outputs": [
    {
     "name": "stdout",
     "output_type": "stream",
     "text": [
      "Guess my number!\n",
      "7\n",
      "Sorry- my number is greater than your guess, Try again! Trials: 1\n",
      "9\n",
      "Sorry- my number is greater than your guess, Try again! Trials: 2\n",
      "10\n",
      "Sorry- my number is greater than your guess, Try again! Trials: 3\n",
      "12\n",
      "Sorry- my number is greater than your guess, Try again! Trials: 4\n",
      "15\n",
      "Sorry- my number is greater than your guess, Try again! Trials: 5\n",
      "17\n",
      "Sorry- my number is greater than your guess, Try again! Trials: 6\n",
      "19\n",
      "Sorry- my number is smaller than your guess, Try again! Trials: 7\n",
      "18\n",
      "Congrats! Trials: 8\n"
     ]
    }
   ],
   "source": [
    "import random\n",
    "my_number = random.randint(0,20)\n",
    "guess = -1\n",
    "print(\"Guess my number!\")\n",
    "trials = 0\n",
    "\n",
    "while guess != my_number:\n",
    "    guess = int(input())\n",
    "    trials += 1\n",
    "    if guess == my_number:\n",
    "        print('Congrats!', \"Trials:\",trials)\n",
    "    elif guess > my_number:\n",
    "        print(\"Sorry- my number is smaller than your guess, Try again!\",\"Trials:\",trials)\n",
    "    else:\n",
    "        print(\"Sorry- my number is greater than your guess, Try again!\",\"Trials:\",trials)"
   ]
  },
  {
   "cell_type": "code",
   "execution_count": null,
   "metadata": {},
   "outputs": [],
   "source": []
  }
 ],
 "metadata": {
  "kernelspec": {
   "display_name": "Python 3",
   "language": "python",
   "name": "python3"
  },
  "language_info": {
   "codemirror_mode": {
    "name": "ipython",
    "version": 3
   },
   "file_extension": ".py",
   "mimetype": "text/x-python",
   "name": "python",
   "nbconvert_exporter": "python",
   "pygments_lexer": "ipython3",
   "version": "3.7.2"
  }
 },
 "nbformat": 4,
 "nbformat_minor": 2
}
