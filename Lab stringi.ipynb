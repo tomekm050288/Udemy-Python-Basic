{
 "cells": [
  {
   "cell_type": "code",
   "execution_count": 1,
   "metadata": {},
   "outputs": [],
   "source": [
    "firstName = 'Katarzyna'\n",
    "lastName = 'Mrugała'\n",
    "familyName = 'Sowa'"
   ]
  },
  {
   "cell_type": "code",
   "execution_count": 4,
   "metadata": {},
   "outputs": [],
   "source": [
    "music = '\\\"Universal Fanfare\\\" Jerry Goldsmith\\n \\\"Happy Together\\\" Garry Bonner\\n \\\"I\\'m a Man\\\" Steve Winwood '"
   ]
  },
  {
   "cell_type": "code",
   "execution_count": 5,
   "metadata": {},
   "outputs": [
    {
     "name": "stdout",
     "output_type": "stream",
     "text": [
      "\"Universal Fanfare\" Jerry Goldsmith\n",
      " \"Happy Together\" Garry Bonner\n",
      " \"I'm a Man\" Steve Winwood \n"
     ]
    }
   ],
   "source": [
    "print(music)"
   ]
  },
  {
   "cell_type": "code",
   "execution_count": 8,
   "metadata": {},
   "outputs": [
    {
     "name": "stdout",
     "output_type": "stream",
     "text": [
      "(\\(\\\n",
      "( -.-)\n",
      "O_(\")(\")\n"
     ]
    }
   ],
   "source": [
    "print('(\\\\(\\\\\\n( -.-)\\nO_(\\\")(\\\")')"
   ]
  },
  {
   "cell_type": "code",
   "execution_count": 9,
   "metadata": {},
   "outputs": [],
   "source": [
    "article = '''At the 41st British Academy Film Awards in 1988, Monty Python received the BAFTA Award for Outstanding British Contribution To Cinema. In 1998 they were awarded the AFI Star Award by the American Film Institute. Many sketches from their TV show and films are well-known and widely quoted. '''"
   ]
  },
  {
   "cell_type": "code",
   "execution_count": 10,
   "metadata": {},
   "outputs": [
    {
     "name": "stdout",
     "output_type": "stream",
     "text": [
      "AT THE 41ST BRITISH ACADEMY FILM AWARDS IN 1988, MONTY PYTHON RECEIVED THE BAFTA AWARD FOR OUTSTANDING BRITISH CONTRIBUTION TO CINEMA. IN 1998 THEY WERE AWARDED THE AFI STAR AWARD BY THE AMERICAN FILM INSTITUTE. MANY SKETCHES FROM THEIR TV SHOW AND FILMS ARE WELL-KNOWN AND WIDELY QUOTED. \n"
     ]
    }
   ],
   "source": [
    "print(article.upper())"
   ]
  },
  {
   "cell_type": "code",
   "execution_count": 12,
   "metadata": {},
   "outputs": [
    {
     "name": "stdout",
     "output_type": "stream",
     "text": [
      "at the 41st british academy film awards in 1988, flying python received the bafta award for outstanding british contribution to cinema. in 1998 they were awarded the afi star award by the american film institute. many sketches from their tv show and films are well-known and widely quoted. \n"
     ]
    }
   ],
   "source": [
    "print(article.lower().replace('monty','flying'))"
   ]
  },
  {
   "cell_type": "code",
   "execution_count": 13,
   "metadata": {},
   "outputs": [
    {
     "name": "stdout",
     "output_type": "stream",
     "text": [
      "['At', 'the', '41st', 'British', 'Academy', 'Film', 'Awards', 'in', '1988,', 'Monty', 'Python', 'received', 'the', 'BAFTA', 'Award', 'for', 'Outstanding', 'British', 'Contribution', 'To', 'Cinema.', 'In', '1998', 'they', 'were', 'awarded', 'the', 'AFI', 'Star', 'Award', 'by', 'the', 'American', 'Film', 'Institute.', 'Many', 'sketches', 'from', 'their', 'TV', 'show', 'and', 'films', 'are', 'well-known', 'and', 'widely', 'quoted.', '']\n"
     ]
    }
   ],
   "source": [
    "print(article.split(' '))"
   ]
  },
  {
   "cell_type": "code",
   "execution_count": 16,
   "metadata": {},
   "outputs": [
    {
     "name": "stdout",
     "output_type": "stream",
     "text": [
      "word python appears 1 times\n"
     ]
    }
   ],
   "source": [
    "print('word python appears ' + str(article.lower().count('python')) + ' times' )"
   ]
  },
  {
   "cell_type": "code",
   "execution_count": 17,
   "metadata": {},
   "outputs": [
    {
     "name": "stdout",
     "output_type": "stream",
     "text": [
      "to print the \\ you need to put \\ twice in your text \n",
      "like this: \\\\ \n"
     ]
    }
   ],
   "source": [
    "print('to print the \\\\ you need to put \\\\ twice in your text \\nlike this: \\\\\\ ')"
   ]
  },
  {
   "cell_type": "code",
   "execution_count": 18,
   "metadata": {},
   "outputs": [
    {
     "name": "stdout",
     "output_type": "stream",
     "text": [
      "The best hits of '80s!!!\n"
     ]
    }
   ],
   "source": [
    "print('The best hits of \\'80s!!!') "
   ]
  },
  {
   "cell_type": "code",
   "execution_count": 19,
   "metadata": {},
   "outputs": [
    {
     "name": "stdout",
     "output_type": "stream",
     "text": [
      "The best hits of '80s!!!\n"
     ]
    }
   ],
   "source": [
    "print(\"The best hits of '80s!!!\") "
   ]
  },
  {
   "cell_type": "code",
   "execution_count": 20,
   "metadata": {},
   "outputs": [],
   "source": [
    "amountPLN = 234"
   ]
  },
  {
   "cell_type": "code",
   "execution_count": 25,
   "metadata": {},
   "outputs": [
    {
     "name": "stdout",
     "output_type": "stream",
     "text": [
      "cur\texchange\tamount\n",
      "USD\t3.65\t\t64.10958904109589\n",
      "EURR\t4.23\t\t55.31914893617021\n"
     ]
    }
   ],
   "source": [
    "print('cur\\texchange\\tamount')\n",
    "print('USD\\t' + str(3.65) + '\\t'*2 + str(amountPLN/3.65))\n",
    "print('EURR\\t' + str(4.23) + '\\t'*2 + str(amountPLN/4.23))"
   ]
  },
  {
   "cell_type": "code",
   "execution_count": 27,
   "metadata": {},
   "outputs": [],
   "source": [
    "ValueAsText = '123.45'\n",
    "factor = 1.23"
   ]
  },
  {
   "cell_type": "code",
   "execution_count": 31,
   "metadata": {},
   "outputs": [
    {
     "name": "stdout",
     "output_type": "stream",
     "text": [
      "value is 123.45 factor is 1.23 value*factor= 151.8435\n"
     ]
    }
   ],
   "source": [
    "print('value is ' + ValueAsText + ' factor is ' + str(factor) +  ' value*factor= ' + str(float(ValueAsText)*factor)) "
   ]
  },
  {
   "cell_type": "code",
   "execution_count": null,
   "metadata": {},
   "outputs": [],
   "source": []
  }
 ],
 "metadata": {
  "kernelspec": {
   "display_name": "Python 3",
   "language": "python",
   "name": "python3"
  },
  "language_info": {
   "codemirror_mode": {
    "name": "ipython",
    "version": 3
   },
   "file_extension": ".py",
   "mimetype": "text/x-python",
   "name": "python",
   "nbconvert_exporter": "python",
   "pygments_lexer": "ipython3",
   "version": "3.7.2"
  }
 },
 "nbformat": 4,
 "nbformat_minor": 2
}
