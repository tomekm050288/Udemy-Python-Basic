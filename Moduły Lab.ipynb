{
 "cells": [
  {
   "cell_type": "code",
   "execution_count": 2,
   "metadata": {},
   "outputs": [],
   "source": [
    "inputdata = [0,1,2,3,5,8,13,21,34,55,89]\n",
    "factortable = [0,0.01,0.02, 0.03,0.05,0.08,0.13,0.21,0.34,0.55,0.89]"
   ]
  },
  {
   "cell_type": "code",
   "execution_count": 3,
   "metadata": {},
   "outputs": [],
   "source": [
    "import math"
   ]
  },
  {
   "cell_type": "code",
   "execution_count": 4,
   "metadata": {},
   "outputs": [
    {
     "name": "stdout",
     "output_type": "stream",
     "text": [
      "11 11\n"
     ]
    }
   ],
   "source": [
    "print(len(inputdata), len(factortable))"
   ]
  },
  {
   "cell_type": "code",
   "execution_count": 5,
   "metadata": {},
   "outputs": [
    {
     "name": "stdout",
     "output_type": "stream",
     "text": [
      "OK!\n",
      "minvalue :  0\n",
      "maxvalue :  0\n",
      "mininteger : 0 inputdata: 0 , factortable: 0\n",
      "maxinteger : 0 inputdata: 0, factortable: 0 \n",
      "\n",
      "minvalue :  0.99\n",
      "maxvalue :  1.01\n",
      "mininteger : 0 inputdata: 1 , factortable: 1\n",
      "maxinteger : 2 inputdata: 1, factortable: 1 \n",
      "\n",
      "minvalue :  1.96\n",
      "maxvalue :  2.04\n",
      "mininteger : 1 inputdata: 2 , factortable: 2\n",
      "maxinteger : 3 inputdata: 2, factortable: 2 \n",
      "\n",
      "minvalue :  2.91\n",
      "maxvalue :  3.09\n",
      "mininteger : 2 inputdata: 3 , factortable: 3\n",
      "maxinteger : 4 inputdata: 3, factortable: 3 \n",
      "\n",
      "minvalue :  4.75\n",
      "maxvalue :  5.25\n",
      "mininteger : 4 inputdata: 4 , factortable: 4\n",
      "maxinteger : 6 inputdata: 4, factortable: 4 \n",
      "\n",
      "minvalue :  7.36\n",
      "maxvalue :  8.64\n",
      "mininteger : 7 inputdata: 5 , factortable: 5\n",
      "maxinteger : 9 inputdata: 5, factortable: 5 \n",
      "\n",
      "minvalue :  11.31\n",
      "maxvalue :  14.69\n",
      "mininteger : 11 inputdata: 6 , factortable: 6\n",
      "maxinteger : 15 inputdata: 6, factortable: 6 \n",
      "\n",
      "minvalue :  16.59\n",
      "maxvalue :  25.41\n",
      "mininteger : 16 inputdata: 7 , factortable: 7\n",
      "maxinteger : 26 inputdata: 7, factortable: 7 \n",
      "\n",
      "minvalue :  22.439999999999998\n",
      "maxvalue :  45.56\n",
      "mininteger : 22 inputdata: 8 , factortable: 8\n",
      "maxinteger : 46 inputdata: 8, factortable: 8 \n",
      "\n",
      "minvalue :  24.749999999999996\n",
      "maxvalue :  85.25\n",
      "mininteger : 24 inputdata: 9 , factortable: 9\n",
      "maxinteger : 86 inputdata: 9, factortable: 9 \n",
      "\n",
      "minvalue :  9.789999999999992\n",
      "maxvalue :  168.21\n",
      "mininteger : 9 inputdata: 10 , factortable: 10\n",
      "maxinteger : 169 inputdata: 10, factortable: 10 \n",
      "\n"
     ]
    }
   ],
   "source": [
    "if len(inputdata) == len(factortable):\n",
    "    print('OK!')\n",
    "    for item in range(0,len(inputdata)):\n",
    "        minvalue= inputdata[item]-factortable[item]*inputdata[item]\n",
    "        print('minvalue : ',minvalue)\n",
    "        maxvalue = inputdata[item]+factortable[item]*inputdata[item]\n",
    "        print('maxvalue : ', maxvalue)\n",
    "        mininteger = math.floor(minvalue)\n",
    "        print('mininteger :', mininteger,\"inputdata: %d , factortable: %d\" %(item,item))\n",
    "        maxinteger = math.ceil(maxvalue)\n",
    "        print('maxinteger :', maxinteger,\"inputdata: %d, factortable: %d\" %(item,item),\"\\n\")\n",
    "else:\n",
    "    print(\"inputdata and factortable need to have equal number of elements\")"
   ]
  },
  {
   "cell_type": "code",
   "execution_count": 6,
   "metadata": {},
   "outputs": [],
   "source": [
    "import random"
   ]
  },
  {
   "cell_type": "code",
   "execution_count": 7,
   "metadata": {},
   "outputs": [
    {
     "name": "stdout",
     "output_type": "stream",
     "text": [
      "OK!\n",
      "minvalue :  0\n",
      "maxvalue :  0\n",
      "mininteger : 0 inputdata: 0\n",
      "maxinteger : 0 inputdata: 0 \n",
      "\n",
      "minvalue :  0\n",
      "maxvalue :  2\n",
      "mininteger : 0 inputdata: 1\n",
      "maxinteger : 2 inputdata: 1 \n",
      "\n",
      "minvalue :  2\n",
      "maxvalue :  2\n",
      "mininteger : 2 inputdata: 2\n",
      "maxinteger : 2 inputdata: 2 \n",
      "\n",
      "minvalue :  3\n",
      "maxvalue :  6\n",
      "mininteger : 3 inputdata: 3\n",
      "maxinteger : 6 inputdata: 3 \n",
      "\n",
      "minvalue :  0\n",
      "maxvalue :  10\n",
      "mininteger : 0 inputdata: 4\n",
      "maxinteger : 10 inputdata: 4 \n",
      "\n",
      "minvalue :  0\n",
      "maxvalue :  16\n",
      "mininteger : 0 inputdata: 5\n",
      "maxinteger : 16 inputdata: 5 \n",
      "\n",
      "minvalue :  0\n",
      "maxvalue :  26\n",
      "mininteger : 0 inputdata: 6\n",
      "maxinteger : 26 inputdata: 6 \n",
      "\n",
      "minvalue :  21\n",
      "maxvalue :  42\n",
      "mininteger : 21 inputdata: 7\n",
      "maxinteger : 42 inputdata: 7 \n",
      "\n",
      "minvalue :  0\n",
      "maxvalue :  34\n",
      "mininteger : 0 inputdata: 8\n",
      "maxinteger : 34 inputdata: 8 \n",
      "\n",
      "minvalue :  55\n",
      "maxvalue :  110\n",
      "mininteger : 55 inputdata: 9\n",
      "maxinteger : 110 inputdata: 9 \n",
      "\n",
      "minvalue :  0\n",
      "maxvalue :  178\n",
      "mininteger : 0 inputdata: 10\n",
      "maxinteger : 178 inputdata: 10 \n",
      "\n"
     ]
    }
   ],
   "source": [
    "if len(inputdata) == len(factortable):\n",
    "    print('OK!')\n",
    "    for item in range(0,len(inputdata)):\n",
    "        minvalue= inputdata[item]-random.randint(0,1)*inputdata[item]\n",
    "        print('minvalue : ',minvalue)\n",
    "        maxvalue = inputdata[item]+random.randint(0,1)*inputdata[item]\n",
    "        print('maxvalue : ', maxvalue)\n",
    "        mininteger = math.floor(minvalue)\n",
    "        print('mininteger :', mininteger,\"inputdata: %d\" %(item))\n",
    "        maxinteger = math.ceil(maxvalue)\n",
    "        print('maxinteger :', maxinteger,\"inputdata: %d\" %(item),\"\\n\")\n",
    "else:\n",
    "    print(\"inputdata and factortable need to have equal number of elements\")"
   ]
  },
  {
   "cell_type": "code",
   "execution_count": 8,
   "metadata": {},
   "outputs": [],
   "source": [
    "import datetime"
   ]
  },
  {
   "cell_type": "code",
   "execution_count": 9,
   "metadata": {},
   "outputs": [
    {
     "name": "stdout",
     "output_type": "stream",
     "text": [
      "2020-01-12 14:18:05.206656\n"
     ]
    }
   ],
   "source": [
    "today = datetime.datetime.now()\n",
    "print(today)"
   ]
  },
  {
   "cell_type": "code",
   "execution_count": 10,
   "metadata": {},
   "outputs": [
    {
     "name": "stdout",
     "output_type": "stream",
     "text": [
      "today is:  2020,01,12\n"
     ]
    }
   ],
   "source": [
    "print('today is: ', today.strftime('%Y,%m,%d'))"
   ]
  },
  {
   "cell_type": "code",
   "execution_count": 11,
   "metadata": {},
   "outputs": [
    {
     "data": {
      "text/plain": [
       "'LOTTO'"
      ]
     },
     "execution_count": 11,
     "metadata": {},
     "output_type": "execute_result"
    }
   ],
   "source": [
    "\"LOTTO\""
   ]
  },
  {
   "cell_type": "code",
   "execution_count": 12,
   "metadata": {},
   "outputs": [],
   "source": [
    "wylosowane = []"
   ]
  },
  {
   "cell_type": "code",
   "execution_count": 14,
   "metadata": {},
   "outputs": [
    {
     "name": "stdout",
     "output_type": "stream",
     "text": [
      "[36, 6, 8, 28, 43, 26, 33]\n"
     ]
    }
   ],
   "source": [
    "while len(wylosowane) < 7:\n",
    "    number = random.randint(1,49)\n",
    "    if number in wylosowane:\n",
    "        continue\n",
    "    wylosowane.append(number)\n",
    "print(wylosowane)"
   ]
  },
  {
   "cell_type": "code",
   "execution_count": 15,
   "metadata": {},
   "outputs": [
    {
     "name": "stdout",
     "output_type": "stream",
     "text": [
      "[36, 6, 8, 28, 43, 26, 33]\n"
     ]
    }
   ],
   "source": [
    "while len(wylosowane) < 7:\n",
    "    number = random.randint(1,49)\n",
    "    if number in wylosowane:\n",
    "        continue\n",
    "    wylosowane.append(number)\n",
    "print(wylosowane)"
   ]
  },
  {
   "cell_type": "code",
   "execution_count": null,
   "metadata": {},
   "outputs": [],
   "source": []
  }
 ],
 "metadata": {
  "kernelspec": {
   "display_name": "Python 3",
   "language": "python",
   "name": "python3"
  },
  "language_info": {
   "codemirror_mode": {
    "name": "ipython",
    "version": 3
   },
   "file_extension": ".py",
   "mimetype": "text/x-python",
   "name": "python",
   "nbconvert_exporter": "python",
   "pygments_lexer": "ipython3",
   "version": "3.7.5"
  }
 },
 "nbformat": 4,
 "nbformat_minor": 2
}
