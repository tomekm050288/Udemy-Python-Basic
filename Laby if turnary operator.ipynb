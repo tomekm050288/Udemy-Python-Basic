{
 "cells": [
  {
   "cell_type": "code",
   "execution_count": 7,
   "metadata": {},
   "outputs": [],
   "source": [
    "musclePain = False\n",
    "faver = False\n",
    "weakness = True"
   ]
  },
  {
   "cell_type": "code",
   "execution_count": 8,
   "metadata": {},
   "outputs": [
    {
     "name": "stdout",
     "output_type": "stream",
     "text": [
      "The flu is unlikely\n"
     ]
    }
   ],
   "source": [
    "print(\"suspicion of influenza\" if musclePain and faver and weakness else \"The flu is unlikely\")"
   ]
  },
  {
   "cell_type": "code",
   "execution_count": 9,
   "metadata": {},
   "outputs": [
    {
     "name": "stdout",
     "output_type": "stream",
     "text": [
      "Just take a rest!\n"
     ]
    }
   ],
   "source": [
    "if musclePain and faver and weakness:\n",
    "    print(\"suspicion of influenza\")\n",
    "elif weakness and not faver and not musclePain:\n",
    "    print(\"Just take a rest!\")\n",
    "else:\n",
    "    print(\"you may be cold\")"
   ]
  },
  {
   "cell_type": "code",
   "execution_count": 12,
   "metadata": {},
   "outputs": [],
   "source": [
    "isMan = False"
   ]
  },
  {
   "cell_type": "code",
   "execution_count": 13,
   "metadata": {},
   "outputs": [
    {
     "name": "stdout",
     "output_type": "stream",
     "text": [
      "Just take a rest!\n"
     ]
    }
   ],
   "source": [
    "if musclePain and faver and weakness:\n",
    "    print(\"suspicion of influenza\")\n",
    "elif isMan and (musclePain or faver or weakness):\n",
    "    print(\"suspicion of influenza\")\n",
    "elif weakness and not faver and not musclePain:\n",
    "    print(\"Just take a rest!\")\n",
    "else:\n",
    "    print(\"you may be cold\")"
   ]
  },
  {
   "cell_type": "code",
   "execution_count": null,
   "metadata": {},
   "outputs": [],
   "source": [
    "isCheckCompleted = True\n",
    "print(\"CHECK IS COMPLETED\" if isCheckCompleted else)"
   ]
  }
 ],
 "metadata": {
  "kernelspec": {
   "display_name": "Python 3",
   "language": "python",
   "name": "python3"
  },
  "language_info": {
   "codemirror_mode": {
    "name": "ipython",
    "version": 3
   },
   "file_extension": ".py",
   "mimetype": "text/x-python",
   "name": "python",
   "nbconvert_exporter": "python",
   "pygments_lexer": "ipython3",
   "version": "3.7.5"
  }
 },
 "nbformat": 4,
 "nbformat_minor": 2
}
