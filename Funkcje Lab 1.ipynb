{
 "cells": [
  {
   "cell_type": "code",
   "execution_count": 5,
   "metadata": {},
   "outputs": [],
   "source": [
    "def PrintCat():\n",
    "    # funcja printująca kota\n",
    "    txt = r'''\n",
    "|\\---/|\n",
    "| o_o |\n",
    " \\_^_/'''\n",
    "    print(txt)\n",
    "    return"
   ]
  },
  {
   "cell_type": "code",
   "execution_count": 6,
   "metadata": {},
   "outputs": [],
   "source": [
    "def PrintBear():\n",
    "    #funkcja printująca misia\n",
    "    txt = r'''\n",
    "/  \\.-\"\"\"-./  \\\n",
    "\\    -   -    /\n",
    " |   o   o   |\n",
    " \\  .-'\"'-.  /\n",
    "  '-\\__Y__/-'\n",
    "     `---`'''\n",
    "    print(txt)\n",
    "    return"
   ]
  },
  {
   "cell_type": "code",
   "execution_count": 7,
   "metadata": {},
   "outputs": [],
   "source": [
    "def PrintBat():\n",
    "    #funkcja printująca nietoperza\n",
    "    txt = r'''\n",
    "   /\\                 /\\\n",
    "  / \\'._   (\\_/)   _.'/ \\\n",
    " /_.''._'--('.')--'_.''._\\\n",
    " | \\_ / `;=/ \" \\=;` \\ _/ |\n",
    "  \\/ `\\__|`\\___/`|__/`  \\/\n",
    "          \\(/|\\)/       '''\n",
    "    print(txt)\n",
    "    return\n",
    "        "
   ]
  },
  {
   "cell_type": "code",
   "execution_count": 8,
   "metadata": {},
   "outputs": [
    {
     "name": "stdout",
     "output_type": "stream",
     "text": [
      "\n",
      "|\\---/|\n",
      "| o_o |\n",
      " \\_^_/\n",
      "\n",
      "|\\---/|\n",
      "| o_o |\n",
      " \\_^_/\n"
     ]
    }
   ],
   "source": [
    "PrintCat()\n",
    "PrintCat()"
   ]
  },
  {
   "cell_type": "code",
   "execution_count": 10,
   "metadata": {},
   "outputs": [
    {
     "name": "stdout",
     "output_type": "stream",
     "text": [
      "\n",
      "/  \\.-\"\"\"-./  \\\n",
      "\\    -   -    /\n",
      " |   o   o   |\n",
      " \\  .-'\"'-.  /\n",
      "  '-\\__Y__/-'\n",
      "     `---`\n",
      "\n",
      "/  \\.-\"\"\"-./  \\\n",
      "\\    -   -    /\n",
      " |   o   o   |\n",
      " \\  .-'\"'-.  /\n",
      "  '-\\__Y__/-'\n",
      "     `---`\n"
     ]
    }
   ],
   "source": [
    "PrintBear()\n",
    "PrintBear()"
   ]
  },
  {
   "cell_type": "code",
   "execution_count": 11,
   "metadata": {},
   "outputs": [
    {
     "name": "stdout",
     "output_type": "stream",
     "text": [
      "\n",
      "   /\\                 /\\\n",
      "  / \\'._   (\\_/)   _.'/ \\\n",
      " /_.''._'--('.')--'_.''._\\\n",
      " | \\_ / `;=/ \" \\=;` \\ _/ |\n",
      "  \\/ `\\__|`\\___/`|__/`  \\/\n",
      "          \\(/|\\)/       \n",
      "\n",
      "   /\\                 /\\\n",
      "  / \\'._   (\\_/)   _.'/ \\\n",
      " /_.''._'--('.')--'_.''._\\\n",
      " | \\_ / `;=/ \" \\=;` \\ _/ |\n",
      "  \\/ `\\__|`\\___/`|__/`  \\/\n",
      "          \\(/|\\)/       \n"
     ]
    }
   ],
   "source": [
    "PrintBat()\n",
    "PrintBat()\n"
   ]
  },
  {
   "cell_type": "code",
   "execution_count": null,
   "metadata": {},
   "outputs": [],
   "source": []
  }
 ],
 "metadata": {
  "kernelspec": {
   "display_name": "Python 3",
   "language": "python",
   "name": "python3"
  },
  "language_info": {
   "codemirror_mode": {
    "name": "ipython",
    "version": 3
   },
   "file_extension": ".py",
   "mimetype": "text/x-python",
   "name": "python",
   "nbconvert_exporter": "python",
   "pygments_lexer": "ipython3",
   "version": "3.7.2"
  }
 },
 "nbformat": 4,
 "nbformat_minor": 2
}
