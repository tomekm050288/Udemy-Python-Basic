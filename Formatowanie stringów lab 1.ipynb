{
 "cells": [
  {
   "cell_type": "code",
   "execution_count": 1,
   "metadata": {},
   "outputs": [],
   "source": [
    "poem = '''1.Runą i w łunach spłoną pożarnych \n",
    "    Krzyże kościołów, krzyże ofiarne \n",
    "    I w bezpowrotnym zgubi się szlaku \n",
    "    W lechickiej ziemi Orzeł Polaków. \n",
    "    2.O, jasne słońce- wodzu Stalinie! \n",
    "    Niech sława twoja nigdy nie zginie \n",
    "    Niechaj jak orły powiedzie z gniazda \n",
    "    Rosja i z Kremla płonąca gwiazda. \n",
    "    3.Na ziemskim globie flagi czerwone \n",
    "    Będą na wiatrach grały jak dzwony \n",
    "    Czerwona Armia i wódz jej Stalin \n",
    "    Odwiecznych wrogów na zawsze obali! \n",
    "    4.Zaćmisz się rychło w czarnej godzinie \n",
    "    Polsko- Twe córy i syny, \n",
    "    Wiara i każdy krzyż na mogile, \n",
    "    U stóp am legą w prochu i pyle! '''"
   ]
  },
  {
   "cell_type": "code",
   "execution_count": 2,
   "metadata": {},
   "outputs": [
    {
     "data": {
      "text/plain": [
       "['1.Runą i w łunach spłoną pożarnych ',\n",
       " '    Krzyże kościołów, krzyże ofiarne ',\n",
       " '    I w bezpowrotnym zgubi się szlaku ',\n",
       " '    W lechickiej ziemi Orzeł Polaków. ',\n",
       " '    2.O, jasne słońce- wodzu Stalinie! ',\n",
       " '    Niech sława twoja nigdy nie zginie ',\n",
       " '    Niechaj jak orły powiedzie z gniazda ',\n",
       " '    Rosja i z Kremla płonąca gwiazda. ',\n",
       " '    3.Na ziemskim globie flagi czerwone ',\n",
       " '    Będą na wiatrach grały jak dzwony ',\n",
       " '    Czerwona Armia i wódz jej Stalin ',\n",
       " '    Odwiecznych wrogów na zawsze obali! ',\n",
       " '    4.Zaćmisz się rychło w czarnej godzinie ',\n",
       " '    Polsko- Twe córy i syny, ',\n",
       " '    Wiara i każdy krzyż na mogile, ',\n",
       " '    U stóp am legą w prochu i pyle! ']"
      ]
     },
     "execution_count": 2,
     "metadata": {},
     "output_type": "execute_result"
    }
   ],
   "source": [
    "lines = poem.split(\"\\n\")\n",
    "lines"
   ]
  },
  {
   "cell_type": "code",
   "execution_count": 5,
   "metadata": {},
   "outputs": [
    {
     "name": "stdout",
     "output_type": "stream",
     "text": [
      "1.Runą i w łunach spłoną pożarnych \n",
      "    3.Na ziemskim globie flagi czerwone \n"
     ]
    }
   ],
   "source": [
    "for linia in range(0,len(lines),8):\n",
    "    print(lines[linia])"
   ]
  },
  {
   "cell_type": "code",
   "execution_count": 7,
   "metadata": {},
   "outputs": [
    {
     "name": "stdout",
     "output_type": "stream",
     "text": [
      "    Krzyże kościołów, krzyże ofiarne \n",
      "    Będą na wiatrach grały jak dzwony \n"
     ]
    }
   ],
   "source": [
    "for linia in range(1,len(lines),8):\n",
    "    print(lines[linia])"
   ]
  },
  {
   "cell_type": "code",
   "execution_count": 8,
   "metadata": {},
   "outputs": [
    {
     "name": "stdout",
     "output_type": "stream",
     "text": [
      "1.Runą i w łunach spłoną pożarnych \n",
      "    3.Na ziemskim globie flagi czerwone \n",
      "    Krzyże kościołów, krzyże ofiarne \n",
      "    Będą na wiatrach grały jak dzwony \n",
      "    I w bezpowrotnym zgubi się szlaku \n",
      "    Czerwona Armia i wódz jej Stalin \n",
      "    W lechickiej ziemi Orzeł Polaków. \n",
      "    Odwiecznych wrogów na zawsze obali! \n",
      "    2.O, jasne słońce- wodzu Stalinie! \n",
      "    4.Zaćmisz się rychło w czarnej godzinie \n",
      "    Niech sława twoja nigdy nie zginie \n",
      "    Polsko- Twe córy i syny, \n",
      "    Niechaj jak orły powiedzie z gniazda \n",
      "    Wiara i każdy krzyż na mogile, \n",
      "    Rosja i z Kremla płonąca gwiazda. \n",
      "    U stóp am legą w prochu i pyle! \n"
     ]
    }
   ],
   "source": [
    "for i in range(8):\n",
    "    print(lines[i])\n",
    "    print(lines[i+8])"
   ]
  },
  {
   "cell_type": "code",
   "execution_count": null,
   "metadata": {},
   "outputs": [],
   "source": []
  }
 ],
 "metadata": {
  "kernelspec": {
   "display_name": "Python 3",
   "language": "python",
   "name": "python3"
  },
  "language_info": {
   "codemirror_mode": {
    "name": "ipython",
    "version": 3
   },
   "file_extension": ".py",
   "mimetype": "text/x-python",
   "name": "python",
   "nbconvert_exporter": "python",
   "pygments_lexer": "ipython3",
   "version": "3.7.5"
  }
 },
 "nbformat": 4,
 "nbformat_minor": 2
}
