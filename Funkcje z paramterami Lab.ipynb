{
 "cells": [
  {
   "cell_type": "code",
   "execution_count": 10,
   "metadata": {},
   "outputs": [
    {
     "name": "stdout",
     "output_type": "stream",
     "text": [
      "\n",
      "   /\\                 /\\\n",
      "  / \\'._   (\\_/)   _.'/ \\\n",
      " /_.''._'--('.')--'_.''._\\\n",
      " | \\_ / `;=/ \" \\=;` \\ _/ |\n",
      "  \\/ `\\__|`\\___/`|__/`  \\/\n",
      "          \\(/|\\)/  \n",
      "     \n",
      "None\n"
     ]
    }
   ],
   "source": [
    "def PrintAnimal(animal = \" \"):\n",
    "    if animal == 'cat':\n",
    "        txt = r'''\n",
    "|\\---/|\n",
    "| o_o |\n",
    " \\_^_/'''\n",
    "        print(txt)\n",
    "        \n",
    "    elif animal == 'bear':\n",
    "        txt = r'''\n",
    "/  \\.-\"\"\"-./  \\\n",
    "\\    -   -    /\n",
    " |   o   o   |\n",
    " \\  .-'\"'-.  /\n",
    "  '-\\__Y__/-'\n",
    "     `---`'''\n",
    "        print(txt)\n",
    "    \n",
    "    elif animal == 'bat':\n",
    "        txt = r'''\n",
    "   /\\                 /\\\n",
    "  / \\'._   (\\_/)   _.'/ \\\n",
    " /_.''._'--('.')--'_.''._\\\n",
    " | \\_ / `;=/ \" \\=;` \\ _/ |\n",
    "  \\/ `\\__|`\\___/`|__/`  \\/\n",
    "          \\(/|\\)/  \n",
    "     '''\n",
    "        print(txt)\n",
    "        \n",
    "    else:\n",
    "        print(\"Cannot print '%s'. Correct values for the parameter are: cat, bear, bat\" %(animal))\n",
    "        \n",
    "        return\n",
    "        \n",
    "print(PrintAnimal('bat'))"
   ]
  },
  {
   "cell_type": "code",
   "execution_count": 11,
   "metadata": {},
   "outputs": [
    {
     "name": "stdout",
     "output_type": "stream",
     "text": [
      "\n",
      "/  \\.-\"\"\"-./  \\\n",
      "\\    -   -    /\n",
      " |   o   o   |\n",
      " \\  .-'\"'-.  /\n",
      "  '-\\__Y__/-'\n",
      "     `---`\n"
     ]
    }
   ],
   "source": [
    "PrintAnimal('bear')"
   ]
  },
  {
   "cell_type": "code",
   "execution_count": 10,
   "metadata": {},
   "outputs": [
    {
     "name": "stdout",
     "output_type": "stream",
     "text": [
      "\n",
      "|\\---/|\n",
      "| o_o |\n",
      " \\_^_/\n"
     ]
    }
   ],
   "source": [
    "PrintAnimal('cat')"
   ]
  },
  {
   "cell_type": "code",
   "execution_count": 11,
   "metadata": {},
   "outputs": [
    {
     "name": "stdout",
     "output_type": "stream",
     "text": [
      "Cannot print ' '. Correct values for the parameter are: cat, bear, bat\n"
     ]
    }
   ],
   "source": [
    "PrintAnimal()"
   ]
  },
  {
   "cell_type": "code",
   "execution_count": null,
   "metadata": {},
   "outputs": [],
   "source": []
  }
 ],
 "metadata": {
  "kernelspec": {
   "display_name": "Python 3",
   "language": "python",
   "name": "python3"
  },
  "language_info": {
   "codemirror_mode": {
    "name": "ipython",
    "version": 3
   },
   "file_extension": ".py",
   "mimetype": "text/x-python",
   "name": "python",
   "nbconvert_exporter": "python",
   "pygments_lexer": "ipython3",
   "version": "3.7.5"
  }
 },
 "nbformat": 4,
 "nbformat_minor": 2
}
