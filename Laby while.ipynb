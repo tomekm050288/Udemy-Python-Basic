{
 "cells": [
  {
   "cell_type": "code",
   "execution_count": 1,
   "metadata": {},
   "outputs": [
    {
     "name": "stdout",
     "output_type": "stream",
     "text": [
      "Row number.... 1\n",
      "Row number.... 2\n",
      "Row number.... 3\n",
      "Row number.... 4\n",
      "Row number.... 5\n",
      "Row number.... 6\n",
      "Row number.... 7\n",
      "Row number.... 8\n",
      "Row number.... 9\n",
      "Row number.... 10\n",
      "Row number.... 11\n",
      "Row number.... 12\n",
      "Row number.... 13\n",
      "Row number.... 14\n",
      "Row number.... 15\n",
      "Row number.... 16\n",
      "Row number.... 17\n",
      "Row number.... 18\n",
      "Row number.... 19\n",
      "Row number.... 20\n",
      "Row number.... 21\n",
      "Row number.... 22\n",
      "Row number.... 23\n",
      "Row number.... 24\n",
      "Row number.... 25\n",
      "Row number.... 26\n",
      "Row number.... 27\n",
      "Row number.... 28\n",
      "Row number.... 29\n",
      "Row number.... 30\n",
      "Row number.... 31\n"
     ]
    }
   ],
   "source": [
    "firstRow = 1\n",
    "lastRow = 31\n",
    "currentRow = firstRow\n",
    "\n",
    "i = 1\n",
    "\n",
    "while currentRow <= lastRow:\n",
    "    print(\"Row number....\", currentRow)\n",
    "    currentRow += 1"
   ]
  },
  {
   "cell_type": "code",
   "execution_count": 2,
   "metadata": {},
   "outputs": [
    {
     "name": "stdout",
     "output_type": "stream",
     "text": [
      "1 1 1\n",
      "4 8 2\n",
      "9 27 3\n",
      "16 64 4\n",
      "25 125 5\n",
      "36 216 6\n",
      "49 343 7\n",
      "64 512 8\n",
      "81 729 9\n",
      "100 1000 10\n",
      "121 1331 11\n",
      "144 1728 12\n",
      "169 2197 13\n",
      "Teraz i= 14\n"
     ]
    }
   ],
   "source": [
    "i=1\n",
    "while i <= 13:\n",
    "    print(i**2, i**3, i)\n",
    "    i+=1\n",
    "else:\n",
    "    print('Teraz i=', i)\n",
    "    "
   ]
  },
  {
   "cell_type": "code",
   "execution_count": 4,
   "metadata": {},
   "outputs": [
    {
     "name": "stdout",
     "output_type": "stream",
     "text": [
      "2 1\n",
      "8 3\n",
      "32 5\n",
      "128 7\n",
      "512 9\n",
      "2048 11\n",
      "8192 13\n",
      "32768 15\n"
     ]
    }
   ],
   "source": [
    "i = 1\n",
    "while i <= 16:\n",
    "    print(2**i, i)\n",
    "    i+=2"
   ]
  },
  {
   "cell_type": "code",
   "execution_count": 7,
   "metadata": {},
   "outputs": [
    {
     "name": "stdout",
     "output_type": "stream",
     "text": [
      "x\n",
      "xx\n",
      "xxx\n",
      "xxxx\n",
      "xxxxx\n",
      "xxxxxx\n",
      "xxxxxxx\n",
      "xxxxxxxx\n",
      "xxxxxxxxx\n",
      "xxxxxxxxxx\n",
      "xxxxxxxxxxx\n"
     ]
    }
   ],
   "source": [
    "i = 1\n",
    "while i <=11:\n",
    "    print('x'*i)\n",
    "    i+=1"
   ]
  },
  {
   "cell_type": "code",
   "execution_count": null,
   "metadata": {},
   "outputs": [],
   "source": []
  }
 ],
 "metadata": {
  "kernelspec": {
   "display_name": "Python 3",
   "language": "python",
   "name": "python3"
  },
  "language_info": {
   "codemirror_mode": {
    "name": "ipython",
    "version": 3
   },
   "file_extension": ".py",
   "mimetype": "text/x-python",
   "name": "python",
   "nbconvert_exporter": "python",
   "pygments_lexer": "ipython3",
   "version": "3.7.5"
  }
 },
 "nbformat": 4,
 "nbformat_minor": 2
}
