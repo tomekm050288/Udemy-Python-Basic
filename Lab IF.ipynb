{
 "cells": [
  {
   "cell_type": "code",
   "execution_count": 3,
   "metadata": {},
   "outputs": [],
   "source": [
    "MIN_LIKES = 500\n",
    "MIN_SHARES = 100\n",
    "Likes = 1300\n",
    "shares = 500"
   ]
  },
  {
   "cell_type": "code",
   "execution_count": 4,
   "metadata": {},
   "outputs": [
    {
     "name": "stdout",
     "output_type": "stream",
     "text": [
      "Ceny spadają o 10%\n"
     ]
    }
   ],
   "source": [
    "if Likes >= MIN_LIKES and shares >= MIN_SHARES:\n",
    "    print('Ceny spadają o 10%')"
   ]
  },
  {
   "cell_type": "code",
   "execution_count": 13,
   "metadata": {},
   "outputs": [],
   "source": [
    "isPizzaOrdered = True\n",
    "isBigDrinkOrdered = False\n",
    "isWeekend = False"
   ]
  },
  {
   "cell_type": "code",
   "execution_count": 14,
   "metadata": {},
   "outputs": [
    {
     "name": "stdout",
     "output_type": "stream",
     "text": [
      "Zniżka\n"
     ]
    }
   ],
   "source": [
    "if (isPizzaOrdered or isBigDrinkOrdered) and not isWeekend:\n",
    "    print(\"Zniżka\")\n",
    "else:\n",
    "    print('kupuj dalej')"
   ]
  },
  {
   "cell_type": "code",
   "execution_count": 15,
   "metadata": {},
   "outputs": [
    {
     "name": "stdout",
     "output_type": "stream",
     "text": [
      "file can't be downloaded\n"
     ]
    }
   ],
   "source": [
    "diskSize = 140\n",
    "diskSizeUsed = 133\n",
    "fileSize = 10\n",
    "\n",
    "if fileSize <= (diskSize - diskSizeUsed):\n",
    "    print('File can be downloaded')\n",
    "else:\n",
    "    print('file can\\'t be downloaded')"
   ]
  },
  {
   "cell_type": "code",
   "execution_count": 16,
   "metadata": {},
   "outputs": [],
   "source": [
    "MIN_LIKES = 500\n",
    "MIN_SHARES = 100\n",
    "Likes = 1300\n",
    "shares = 500"
   ]
  },
  {
   "cell_type": "code",
   "execution_count": 17,
   "metadata": {},
   "outputs": [
    {
     "name": "stdout",
     "output_type": "stream",
     "text": [
      "Rozpoczynamu promo\n"
     ]
    }
   ],
   "source": [
    "if Likes >= MIN_LIKES and shares >= MIN_SHARES:\n",
    "    print(\"Rozpoczynamu promo\")\n",
    "else:\n",
    "    if Likes < MIN_LIKES:\n",
    "        print('Za mało lajków')\n",
    "    else:\n",
    "        print(\"Za mało udostępnień\")"
   ]
  },
  {
   "cell_type": "code",
   "execution_count": 18,
   "metadata": {},
   "outputs": [
    {
     "name": "stdout",
     "output_type": "stream",
     "text": [
      "Rozpoczynamu promo\n"
     ]
    }
   ],
   "source": [
    "if Likes >= MIN_LIKES and shares >= MIN_SHARES:\n",
    "    print(\"Rozpoczynamu promo\")\n",
    "elif Likes < MIN_LIKES:\n",
    "    print('Za mało lajków')\n",
    "else:\n",
    "    print(\"Za mało udostępnień\")"
   ]
  },
  {
   "cell_type": "code",
   "execution_count": null,
   "metadata": {},
   "outputs": [],
   "source": [
    "if (isPizzaOrdered or isBigDrinkOrdered) and not isWeekend:\n",
    "    print(\"Zniżka\")\n",
    "else:\n",
    "    if isWeekend:\n",
    "        print('W weekend brak promo')\n",
    "    else\n",
    "    "
   ]
  }
 ],
 "metadata": {
  "kernelspec": {
   "display_name": "Python 3",
   "language": "python",
   "name": "python3"
  },
  "language_info": {
   "codemirror_mode": {
    "name": "ipython",
    "version": 3
   },
   "file_extension": ".py",
   "mimetype": "text/x-python",
   "name": "python",
   "nbconvert_exporter": "python",
   "pygments_lexer": "ipython3",
   "version": "3.7.5"
  }
 },
 "nbformat": 4,
 "nbformat_minor": 2
}
